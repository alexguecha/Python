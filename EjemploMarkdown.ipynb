{
  "nbformat": 4,
  "nbformat_minor": 0,
  "metadata": {
    "colab": {
      "name": "Untitled0.ipynb",
      "provenance": [],
      "authorship_tag": "ABX9TyN4PekBwxv78QWMJYXzKfyE",
      "include_colab_link": true
    },
    "kernelspec": {
      "name": "python3",
      "display_name": "Python 3"
    },
    "language_info": {
      "name": "python"
    }
  },
  "cells": [
    {
      "cell_type": "markdown",
      "metadata": {
        "id": "view-in-github",
        "colab_type": "text"
      },
      "source": [
        "<a href=\"https://colab.research.google.com/github/alexguecha/Python/blob/main/EjemploMarkdown.ipynb\" target=\"_parent\"><img src=\"https://colab.research.google.com/assets/colab-badge.svg\" alt=\"Open In Colab\"/></a>"
      ]
    },
    {
      "cell_type": "markdown",
      "source": [
        "---\n",
        "## Conjuntos, diccionarios, listas y tuplas\n",
        "---\n",
        "\n",
        "**Objetivos**: Diferenciar entre conjuntos, diccionarios, listas y tuplas en python. Además, sabrá cómo utilizarlos y crearlos"
      ],
      "metadata": {
        "id": "DDqprOp6pEgk"
      }
    },
    {
      "cell_type": "code",
      "source": [
        "omar_honorio_garzon_intereses = {\"topología\", \"matemáticas aplicadas\", \"teoría de números\"}\n",
        "ana_clementina_maldonado_intereses = {\"estadística\", \"economía laboral\", \"matemáticas aplicadas\", \"literatura medieval\"}\n",
        "acsa_gisell_trujillo_intereses = {\"desarrollo de software\", \"estadística\", \"matemáticas aplicadas\", \"teoría de números\"}\n",
        "yerson_ferney_daza_intereses = {\"mecánica cuántica\", \"relatividad general\"}"
      ],
      "metadata": {
        "id": "_MlLseuOk62T"
      },
      "execution_count": 1,
      "outputs": []
    }
  ]
}